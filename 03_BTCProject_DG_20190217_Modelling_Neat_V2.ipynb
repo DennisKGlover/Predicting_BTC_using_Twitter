{
 "cells": [
  {
   "cell_type": "markdown",
   "metadata": {},
   "source": [
    "# Modelling bitcoin price using Twitter data"
   ]
  },
  {
   "cell_type": "markdown",
   "metadata": {},
   "source": [
    "## 1.0 Imports"
   ]
  },
  {
   "cell_type": "code",
   "execution_count": 1,
   "metadata": {},
   "outputs": [
    {
     "name": "stderr",
     "output_type": "stream",
     "text": [
      "C:\\ProgramData\\Anaconda3\\lib\\site-packages\\nltk\\twitter\\__init__.py:20: UserWarning: The twython library has not been installed. Some functionality from the twitter package will not be available.\n",
      "  warnings.warn(\"The twython library has not been installed. \"\n"
     ]
    }
   ],
   "source": [
    "# Basic Python imports\n",
    "import pandas as pd\n",
    "import numpy as np\n",
    "\n",
    "# Word lemmatisation imports\n",
    "from nltk import WordNetLemmatizer\n",
    "lem = WordNetLemmatizer()\n",
    "\n",
    "# sentiment analysis\n",
    "from nltk.sentiment.vader import SentimentIntensityAnalyzer\n",
    "analyzer = SentimentIntensityAnalyzer()\n",
    "\n",
    "# Modelling imports\n",
    "from sklearn.linear_model import LinearRegression, LogisticRegression\n",
    "from sklearn import metrics\n",
    "from sklearn.metrics import classification_report, confusion_matrix\n",
    "\n",
    "from sklearn.feature_extraction.text import TfidfVectorizer, CountVectorizer\n",
    "from sklearn.model_selection import GridSearchCV, train_test_split, cross_val_score\n",
    "\n",
    "# Stop words\n",
    "from sklearn.feature_extraction.text import ENGLISH_STOP_WORDS\n",
    "\n",
    "from datetime import timedelta\n",
    "import time\n",
    "\n",
    "import ast\n",
    "\n",
    "# Graph imports\n",
    "import matplotlib.pyplot as plt\n",
    "import seaborn as sns\n",
    "\n",
    "import itertools"
   ]
  },
  {
   "cell_type": "code",
   "execution_count": null,
   "metadata": {},
   "outputs": [],
   "source": [
    "import warnings\n",
    "warnings.filterwarnings('ignore')"
   ]
  },
  {
   "cell_type": "markdown",
   "metadata": {},
   "source": [
    "## 2.0 Functions"
   ]
  },
  {
   "cell_type": "markdown",
   "metadata": {},
   "source": [
    "### 2.1 Text cleaning functions"
   ]
  },
  {
   "cell_type": "code",
   "execution_count": null,
   "metadata": {},
   "outputs": [],
   "source": [
    "# Function to get lemma of word\n",
    "def word_lemma(text):\n",
    "    \n",
    "    text_ls = text.split(' ')\n",
    "    \n",
    "    #lemmatised_words = [lem.lemmatize(word, 'v') for word in text]\n",
    "    lemmatised_words = [lem.lemmatize(word, 'v') for word in text_ls]\n",
    "    \n",
    "    return lemmatised_words"
   ]
  },
  {
   "cell_type": "code",
   "execution_count": null,
   "metadata": {},
   "outputs": [],
   "source": [
    "# function to find and replace words in a string using a dictionary\n",
    "def find_replace(string, dictionary):\n",
    "    \n",
    "    replacement_list = []\n",
    "    \n",
    "    # is the item in the dict?\n",
    "    for item in string.split():\n",
    "        # iterate by keys\n",
    "        if item in dictionary.keys():\n",
    "            # look up and replace\n",
    "            replacement_list.append(item)\n",
    "            #string.replace(item, dictionary[item])\n",
    "            \n",
    "    for word in replacement_list:\n",
    "        \n",
    "        string = string.replace(word, dictionary[word])\n",
    "    # return updated string\n",
    "    return string"
   ]
  },
  {
   "cell_type": "code",
   "execution_count": null,
   "metadata": {},
   "outputs": [],
   "source": [
    "# Dictionary of apostrophe conversions to find and replace on\n",
    "appos = {\n",
    "\"aren't\" : \"are not\",\n",
    "\"can't\" : \"cannot\",\n",
    "\"couldn't\" : \"could not\",\n",
    "\"didn't\" : \"did not\",\n",
    "\"doesn't\" : \"does not\",\n",
    "\"don't\" : \"do not\",\n",
    "\"hadn't\" : \"had not\",\n",
    "\"hasn't\" : \"has not\",\n",
    "\"haven't\" : \"have not\",\n",
    "\"he'd\" : \"he would\",\n",
    "\"he'll\" : \"he will\",\n",
    "\"he's\" : \"he is\",\n",
    "\"i'd\" : \"I would\",\n",
    "\"i'd\" : \"I had\",\n",
    "\"i'll\" : \"I will\",\n",
    "\"i'm\" : \"I am\",\n",
    "\"isn't\" : \"is not\",\n",
    "\"it's\" : \"it is\",\n",
    "\"it'll\":\"it will\",\n",
    "\"i've\" : \"I have\",\n",
    "\"let's\" : \"let us\",\n",
    "\"mightn't\" : \"might not\",\n",
    "\"mustn't\" : \"must not\",\n",
    "\"shan't\" : \"shall not\",\n",
    "\"she'd\" : \"she would\",\n",
    "\"she'll\" : \"she will\",\n",
    "\"she's\" : \"she is\",\n",
    "\"shouldn't\" : \"should not\",\n",
    "\"that's\" : \"that is\",\n",
    "\"there's\" : \"there is\",\n",
    "\"they'd\" : \"they would\",\n",
    "\"they'll\" : \"they will\",\n",
    "\"they're\" : \"they are\",\n",
    "\"they've\" : \"they have\",\n",
    "\"we'd\" : \"we would\",\n",
    "\"we're\" : \"we are\",\n",
    "\"weren't\" : \"were not\",\n",
    "\"we've\" : \"we have\",\n",
    "\"what'll\" : \"what will\",\n",
    "\"what're\" : \"what are\",\n",
    "\"what's\" : \"what is\",\n",
    "\"what've\" : \"what have\",\n",
    "\"where's\" : \"where is\",\n",
    "\"who'd\" : \"who would\",\n",
    "\"who'll\" : \"who will\",\n",
    "\"who're\" : \"who are\",\n",
    "\"who's\" : \"who is\",\n",
    "\"who've\" : \"who have\",\n",
    "\"won't\" : \"will not\",\n",
    "\"wouldn't\" : \"would not\",\n",
    "\"you'd\" : \"you would\",\n",
    "\"you'll\" : \"you will\",\n",
    "\"you're\" : \"you are\",\n",
    "\"you've\" : \"you have\",\n",
    "\"'re\": \" are\",\n",
    "\"wasn't\": \"was not\",\n",
    "\"we'll\":\" will\",\n",
    "\"didn't\": \"did not\"\n",
    "}"
   ]
  },
  {
   "cell_type": "markdown",
   "metadata": {},
   "source": [
    "### 2.2 Sentiment function"
   ]
  },
  {
   "cell_type": "code",
   "execution_count": null,
   "metadata": {},
   "outputs": [],
   "source": [
    "def sentiment_analyser(text):\n",
    "    sentiment_scores = analyzer.polarity_scores(str(text))\n",
    "    \n",
    "    return sentiment_scores"
   ]
  },
  {
   "cell_type": "markdown",
   "metadata": {},
   "source": [
    "### 2.3 Positive price change column function"
   ]
  },
  {
   "cell_type": "code",
   "execution_count": null,
   "metadata": {},
   "outputs": [],
   "source": [
    "def positive_5_mins(x):\n",
    "    if x > 0:\n",
    "        postive_change = 1\n",
    "    else:\n",
    "        postive_change = 0\n",
    "        \n",
    "    return postive_change"
   ]
  },
  {
   "cell_type": "markdown",
   "metadata": {},
   "source": [
    "### 2.3 Function for plotting confusion matrix"
   ]
  },
  {
   "cell_type": "code",
   "execution_count": 2,
   "metadata": {},
   "outputs": [],
   "source": [
    "def plot_confusion_matrix(cm, classes, title='Confusion matrix', cmap=plt.cm.Reds):\n",
    "    plt.imshow(cm, interpolation='nearest', cmap=cmap)\n",
    "    plt.title(title)\n",
    "    plt.colorbar()\n",
    "    tick_marks = np.arange(len(classes))\n",
    "    plt.xticks(tick_marks, classes, rotation=45)\n",
    "    plt.yticks(tick_marks, classes)\n",
    "    thresh = cm.max() / 2.\n",
    "    for i, j in itertools.product(range(cm.shape[0]), range(cm.shape[1])):\n",
    "        plt.text(j, i, cm[i, j],\n",
    "                 horizontalalignment=\"center\",\n",
    "                 color=\"white\" if cm[i, j] > thresh else \"black\")\n",
    "    plt.ylabel('True label')\n",
    "    plt.xlabel('Predicted label')\n",
    "    plt.show()"
   ]
  },
  {
   "cell_type": "markdown",
   "metadata": {},
   "source": [
    "## 3.0 Read in the data"
   ]
  },
  {
   "cell_type": "code",
   "execution_count": null,
   "metadata": {},
   "outputs": [],
   "source": [
    "master_bitcoin_data = pd.read_csv('2.Processed_data/master_bitcoin_data_20180211.csv', index_col=0)\n",
    "tweets_master = pd.read_csv('2.Processed_data/Tweets_master_20180211.csv', index_col=0)"
   ]
  },
  {
   "cell_type": "code",
   "execution_count": null,
   "metadata": {},
   "outputs": [],
   "source": [
    "# Look at shape of dataframes\n",
    "print(f\"master_bitcoin_data shape: {master_bitcoin_data.shape}\")\n",
    "print(f\"tweets_master shape: {tweets_master.shape}\")"
   ]
  },
  {
   "cell_type": "code",
   "execution_count": null,
   "metadata": {},
   "outputs": [],
   "source": [
    "# Check data for nulls\n",
    "tweets_master.isnull().sum()"
   ]
  },
  {
   "cell_type": "code",
   "execution_count": null,
   "metadata": {},
   "outputs": [],
   "source": [
    "master_bitcoin_data.isnull().sum()"
   ]
  },
  {
   "cell_type": "markdown",
   "metadata": {},
   "source": [
    "## 4.0 Pre-modelling data processing"
   ]
  },
  {
   "cell_type": "code",
   "execution_count": null,
   "metadata": {},
   "outputs": [],
   "source": [
    "# Check to see whether the tweets column has any duplicates\n",
    "print(tweets_master.shape)\n",
    "print(tweets_master.drop_duplicates(subset='tweet_text').shape)"
   ]
  },
  {
   "cell_type": "code",
   "execution_count": null,
   "metadata": {},
   "outputs": [],
   "source": [
    "# drop the duplicates\n",
    "tweets_master.drop_duplicates(subset='tweet_text', inplace=True)"
   ]
  },
  {
   "cell_type": "markdown",
   "metadata": {},
   "source": [
    "### 4.1 Merging bitcoin data to the tweets"
   ]
  },
  {
   "cell_type": "code",
   "execution_count": null,
   "metadata": {},
   "outputs": [],
   "source": [
    "master_bitcoin_data.rename(columns={'Timestamp_DT' : 'Timestamp_DT_mins'}, inplace=True)"
   ]
  },
  {
   "cell_type": "code",
   "execution_count": null,
   "metadata": {},
   "outputs": [],
   "source": [
    "tweets_with_BTC_data = tweets_master.merge(master_bitcoin_data, on='Timestamp_DT_mins', how='left')"
   ]
  },
  {
   "cell_type": "code",
   "execution_count": null,
   "metadata": {},
   "outputs": [],
   "source": [
    "# check shapes to confirm merge was successful\n",
    "print(f\"tweets_master shape: {tweets_master.shape}\")\n",
    "print(f\"tweets_with_BTC_data shape: {tweets_with_BTC_data.shape}\")"
   ]
  },
  {
   "cell_type": "code",
   "execution_count": null,
   "metadata": {},
   "outputs": [],
   "source": [
    "# Look at first few rows of merged data\n",
    "tweets_with_BTC_data.head(3)"
   ]
  },
  {
   "cell_type": "code",
   "execution_count": null,
   "metadata": {},
   "outputs": [],
   "source": [
    "# Check for null values\n",
    "tweets_with_BTC_data.isnull().sum()"
   ]
  },
  {
   "cell_type": "code",
   "execution_count": null,
   "metadata": {},
   "outputs": [],
   "source": [
    "# drop rows with nulls in the tweet text\n",
    "tweets_BTC_modelling_df = tweets_with_BTC_data.dropna(subset=['tweet_text'])"
   ]
  },
  {
   "cell_type": "code",
   "execution_count": null,
   "metadata": {},
   "outputs": [],
   "source": [
    "# # drop rows with nulls in the weighted price\n",
    "tweets_BTC_modelling_df.dropna(subset=['Weighted_Price'], inplace=True)"
   ]
  },
  {
   "cell_type": "markdown",
   "metadata": {},
   "source": [
    "### 4.2 Text cleaning"
   ]
  },
  {
   "cell_type": "code",
   "execution_count": null,
   "metadata": {},
   "outputs": [],
   "source": [
    "# Set tweet text to lower\n",
    "tweets_BTC_modelling_df['text_clean'] = tweets_BTC_modelling_df['tweet_text'].map(lambda x: str(x).lower())"
   ]
  },
  {
   "cell_type": "code",
   "execution_count": null,
   "metadata": {},
   "outputs": [],
   "source": [
    "# Remove commas, and replace odd formatted apostrophes with normal ones\n",
    "tweets_BTC_modelling_df['text_clean'] = tweets_BTC_modelling_df['text_clean'].map(lambda x: x.replace(',', ' ').replace('’',\"'\"))"
   ]
  },
  {
   "cell_type": "code",
   "execution_count": null,
   "metadata": {},
   "outputs": [],
   "source": [
    "# Run a find and replace using the apostrophe dictionary\n",
    "tweets_BTC_modelling_df['text_clean'] = tweets_BTC_modelling_df['text_clean'].map(lambda x: find_replace(str(x), appos))"
   ]
  },
  {
   "cell_type": "code",
   "execution_count": null,
   "metadata": {},
   "outputs": [],
   "source": [
    "tweets_BTC_modelling_df['text_lemma'] = tweets_BTC_modelling_df['text_clean'].map(lambda x: word_lemma(str(x)))"
   ]
  },
  {
   "cell_type": "markdown",
   "metadata": {},
   "source": [
    "### 4.3 Add in sentiment scores"
   ]
  },
  {
   "cell_type": "code",
   "execution_count": null,
   "metadata": {},
   "outputs": [],
   "source": [
    "tweets_BTC_modelling_df['sentiment_scores'] = tweets_BTC_modelling_df['tweet_text'].map(lambda x: sentiment_analyser(str(x)))\n",
    "tweets_BTC_modelling_df['overall_sentiment'] = tweets_BTC_modelling_df['sentiment_scores'].map(lambda x: x['compound'])"
   ]
  },
  {
   "cell_type": "markdown",
   "metadata": {},
   "source": [
    "### 4.4 Add price change columns"
   ]
  },
  {
   "cell_type": "markdown",
   "metadata": {},
   "source": [
    "#### 4.41 Add in 'price 5 mins later'"
   ]
  },
  {
   "cell_type": "code",
   "execution_count": null,
   "metadata": {},
   "outputs": [],
   "source": [
    "# Change to timestamp columns to datetime format\n",
    "tweets_BTC_modelling_df['Timestamp_DT'] = pd.to_datetime(tweets_BTC_modelling_df['Timestamp_DT'])\n",
    "tweets_BTC_modelling_df['Timestamp_DT_mins'] = pd.to_datetime(tweets_BTC_modelling_df['Timestamp_DT_mins'])"
   ]
  },
  {
   "cell_type": "code",
   "execution_count": null,
   "metadata": {},
   "outputs": [],
   "source": [
    "# Add in column of the time 5 ins later\n",
    "tweets_BTC_modelling_df['Time_5_mins_later'] = tweets_BTC_modelling_df['Timestamp_DT_mins'].map(lambda x: x + timedelta(seconds=300))"
   ]
  },
  {
   "cell_type": "code",
   "execution_count": null,
   "metadata": {},
   "outputs": [],
   "source": [
    "# create copy dataframe to match against\n",
    "later_date_matching_df = tweets_BTC_modelling_df[['Timestamp_DT_mins','Weighted_Price']]"
   ]
  },
  {
   "cell_type": "code",
   "execution_count": null,
   "metadata": {},
   "outputs": [],
   "source": [
    "# Rename columns in new dataframe\n",
    "later_date_matching_df.rename(columns={'Timestamp_DT_mins' : 'merge_time', 'Weighted_Price':'Weighted_Price_5minsL'}, inplace=True)"
   ]
  },
  {
   "cell_type": "code",
   "execution_count": null,
   "metadata": {},
   "outputs": [],
   "source": [
    "# Merge in new dataframe to tweets data using the 5_mins_later column to get price at that time\n",
    "tweets_BTC_modelling_df = tweets_BTC_modelling_df.merge(later_date_matching_df, left_on='Time_5_mins_later', right_on='merge_time', how='inner')"
   ]
  },
  {
   "cell_type": "code",
   "execution_count": null,
   "metadata": {},
   "outputs": [],
   "source": [
    "# drop out 'merge_time' column since it's no longer needed\n",
    "tweets_BTC_modelling_df.drop(columns=['merge_time'], inplace=True)"
   ]
  },
  {
   "cell_type": "markdown",
   "metadata": {},
   "source": [
    "#### 4.42 Add in price change"
   ]
  },
  {
   "cell_type": "code",
   "execution_count": null,
   "metadata": {},
   "outputs": [],
   "source": [
    "# subtract current price from price 5 mins in future to get the price change\n",
    "tweets_BTC_modelling_df['price_change_5_mins'] = tweets_BTC_modelling_df['Weighted_Price_5minsL'] - tweets_BTC_modelling_df['Weighted_Price']"
   ]
  },
  {
   "cell_type": "markdown",
   "metadata": {},
   "source": [
    "#### 4.43 Add in categorical positive price change column"
   ]
  },
  {
   "cell_type": "code",
   "execution_count": null,
   "metadata": {},
   "outputs": [],
   "source": [
    "tweets_BTC_modelling_df['positive_change_5mins'] = tweets_BTC_modelling_df['price_change_5_mins'].map(lambda x: positive_5_mins(x))"
   ]
  },
  {
   "cell_type": "markdown",
   "metadata": {},
   "source": [
    "### 4.5 Create dummy columns"
   ]
  },
  {
   "cell_type": "code",
   "execution_count": null,
   "metadata": {},
   "outputs": [],
   "source": [
    "# create dummies on 'user' column\n",
    "user_dummies = pd.get_dummies(tweets_BTC_modelling_df['user'])"
   ]
  },
  {
   "cell_type": "code",
   "execution_count": null,
   "metadata": {},
   "outputs": [],
   "source": [
    "# merge dummy columns into tweets dataframe\n",
    "tweets_BTC_modelling_df = pd.concat([tweets_BTC_modelling_df,user_dummies], axis=1)"
   ]
  },
  {
   "cell_type": "code",
   "execution_count": null,
   "metadata": {},
   "outputs": [],
   "source": [
    "# Save to excel...\n",
    "tweets_BTC_modelling_df.to_excel('Modeeling Dataframe.xlsx')"
   ]
  },
  {
   "cell_type": "markdown",
   "metadata": {},
   "source": [
    "## 5.0 Modelling"
   ]
  },
  {
   "cell_type": "markdown",
   "metadata": {},
   "source": [
    "### Load saved data"
   ]
  },
  {
   "cell_type": "code",
   "execution_count": 3,
   "metadata": {},
   "outputs": [],
   "source": [
    "# Load df\n",
    "tweets_BTC_modelling_df = pd.read_excel('Modeeling Dataframe.xlsx')"
   ]
  },
  {
   "cell_type": "code",
   "execution_count": 4,
   "metadata": {},
   "outputs": [],
   "source": [
    "# Change into list\n",
    "tweets_BTC_modelling_df['text_lemma'] = tweets_BTC_modelling_df['text_lemma'].map(lambda x: ast.literal_eval(x))"
   ]
  },
  {
   "cell_type": "code",
   "execution_count": 5,
   "metadata": {
    "scrolled": true
   },
   "outputs": [
    {
     "data": {
      "text/plain": [
       "date                      0\n",
       "exchange                  0\n",
       "influencer                0\n",
       "news                      0\n",
       "project                   0\n",
       "retweets                  0\n",
       "tweet_text               22\n",
       "user                      0\n",
       "Timestamp_DT              0\n",
       "Timestamp_DT_mins         0\n",
       "Timestamp                 0\n",
       "Open                      0\n",
       "High                      0\n",
       "Low                       0\n",
       "Close                     0\n",
       "Volume_(BTC)              0\n",
       "Volume_(Currency)         0\n",
       "Weighted_Price            0\n",
       "text_clean               22\n",
       "text_lemma                0\n",
       "sentiment_scores          0\n",
       "overall_sentiment         0\n",
       "Time_5_mins_later         0\n",
       "Weighted_Price_5minsL     0\n",
       "price_change_5_mins       0\n",
       "positive_change_5mins     0\n",
       "@0xProject                0\n",
       "@AriDavidPaul             0\n",
       "@Aurora_dao               0\n",
       "@BitMEXdotcom             0\n",
       "                         ..\n",
       "@VitalikButerin           0\n",
       "@aantonop                 0\n",
       "@adam3us                  0\n",
       "@alexsunnarborg           0\n",
       "@aradchenko1              0\n",
       "@barrysilbert             0\n",
       "@binance                  0\n",
       "@bitfinex                 0\n",
       "@bobbyclee                0\n",
       "@brian_armstrong          0\n",
       "@brockpierce              0\n",
       "@coinbase                 0\n",
       "@coindesk                 0\n",
       "@durov                    0\n",
       "@ethereum                 0\n",
       "@fluffypony               0\n",
       "@gavinandresen            0\n",
       "@jimmysong                0\n",
       "@koreanjewcrypto          0\n",
       "@krakenfx                 0\n",
       "@litecoin                 0\n",
       "@lopp                     0\n",
       "@maxkeiser                0\n",
       "@mikojava                 0\n",
       "@monero                   0\n",
       "@officialmcafee           0\n",
       "@onemanatatime            0\n",
       "@peterktodd               0\n",
       "@rogerkver                0\n",
       "@wheatpond                0\n",
       "Length: 81, dtype: int64"
      ]
     },
     "execution_count": 5,
     "metadata": {},
     "output_type": "execute_result"
    }
   ],
   "source": [
    "tweets_BTC_modelling_df.isnull().sum()"
   ]
  },
  {
   "cell_type": "code",
   "execution_count": 6,
   "metadata": {},
   "outputs": [
    {
     "name": "stdout",
     "output_type": "stream",
     "text": [
      "(98244, 81)\n",
      "(98222, 81)\n"
     ]
    }
   ],
   "source": [
    "# drop nulls\n",
    "print(tweets_BTC_modelling_df.shape)\n",
    "tweets_BTC_modelling_df.dropna(inplace=True)\n",
    "print(tweets_BTC_modelling_df.shape)"
   ]
  },
  {
   "cell_type": "code",
   "execution_count": 7,
   "metadata": {},
   "outputs": [
    {
     "data": {
      "text/plain": [
       "True     98221\n",
       "False        1\n",
       "Name: type_string, dtype: int64"
      ]
     },
     "execution_count": 7,
     "metadata": {},
     "output_type": "execute_result"
    }
   ],
   "source": [
    "# Ensure it is a string\n",
    "tweets_BTC_modelling_df['type_string'] = tweets_BTC_modelling_df.tweet_text.map(lambda x: True if type(x) == str else False)\n",
    "tweets_BTC_modelling_df['type_string'].value_counts()"
   ]
  },
  {
   "cell_type": "code",
   "execution_count": 8,
   "metadata": {},
   "outputs": [],
   "source": [
    "tweets_BTC_modelling_df = tweets_BTC_modelling_df.loc[tweets_BTC_modelling_df['type_string']].copy()"
   ]
  },
  {
   "cell_type": "markdown",
   "metadata": {},
   "source": [
    "### 5.1 TFID"
   ]
  },
  {
   "cell_type": "code",
   "execution_count": 11,
   "metadata": {},
   "outputs": [],
   "source": [
    "additional_stopwords = ['https','http'] "
   ]
  },
  {
   "cell_type": "code",
   "execution_count": 12,
   "metadata": {},
   "outputs": [],
   "source": [
    "add_stop_words = ENGLISH_STOP_WORDS.union(additional_stopwords)"
   ]
  },
  {
   "cell_type": "code",
   "execution_count": null,
   "metadata": {},
   "outputs": [],
   "source": [
    "vect = TfidfVectorizer(max_features=5000, ngram_range=(3,5),stop_words=add_stop_words)\n",
    "\n",
    "vect.fit(tweets_BTC_modelling_df['tweet_text'])\n",
    "\n",
    "text_X = vect.transform(tweets_BTC_modelling_df['tweet_text']).toarray()"
   ]
  },
  {
   "cell_type": "code",
   "execution_count": null,
   "metadata": {},
   "outputs": [],
   "source": [
    "text_X.shape"
   ]
  },
  {
   "cell_type": "code",
   "execution_count": null,
   "metadata": {},
   "outputs": [],
   "source": [
    "# Set up model columns\n",
    "feat_model_cols = [col for col in tweets_BTC_modelling_df.columns if col.startswith('@')]\n",
    "\n",
    "feature_cols = list(tweets_BTC_modelling_df.columns[2:6]) + feat_model_cols + ['overall_sentiment']"
   ]
  },
  {
   "cell_type": "code",
   "execution_count": null,
   "metadata": {},
   "outputs": [],
   "source": [
    "non_text_features = tweets_BTC_modelling_df[feature_cols].as_matrix()"
   ]
  },
  {
   "cell_type": "code",
   "execution_count": null,
   "metadata": {},
   "outputs": [],
   "source": [
    "%%time\n",
    "x = np.hstack((text_X, non_text_features))"
   ]
  },
  {
   "cell_type": "markdown",
   "metadata": {},
   "source": [
    "### 5.2 Logistic Regression"
   ]
  },
  {
   "cell_type": "markdown",
   "metadata": {},
   "source": [
    "#### 5.21 Predicting positive change 5 mins later using cleaned tweet text"
   ]
  },
  {
   "cell_type": "code",
   "execution_count": null,
   "metadata": {},
   "outputs": [],
   "source": [
    "%%time\n",
    "# Run gridsearch\n",
    "lr = LogisticRegression()\n",
    "y = tweets_BTC_modelling_df['positive_change_5mins']\n",
    "\n",
    "params = {'C' : [0.01, 0.1, 0.9],\n",
    "         'penalty' : ['l1']}\n",
    "\n",
    "gs_lr = GridSearchCV(lr, param_grid=params, verbose=1, n_jobs=-1)\n",
    "gs_lr.fit(x, y)"
   ]
  },
  {
   "cell_type": "code",
   "execution_count": null,
   "metadata": {},
   "outputs": [],
   "source": [
    "gs_lr.best_score_"
   ]
  },
  {
   "cell_type": "code",
   "execution_count": null,
   "metadata": {},
   "outputs": [],
   "source": [
    "gs_lr.best_params_"
   ]
  },
  {
   "cell_type": "code",
   "execution_count": null,
   "metadata": {},
   "outputs": [],
   "source": [
    "%%time\n",
    "# Model\n",
    "lr = LogisticRegression(C= 0.01, penalty= 'l1')\n",
    "\n",
    "y = tweets_BTC_modelling_df['positive_change_5mins']\n",
    "\n",
    "x_train, x_test, y_train, y_test = train_test_split(x, y, test_size=0.3, random_state=42)\n",
    "\n",
    "print(x_train.shape, x_test.shape)\n",
    "print(y_train.shape, y_test.shape)\n",
    "\n",
    "lr.fit(x_train, y_train)\n",
    "\n",
    "pred = lr.predict(x_test)\n",
    "\n",
    "score = lr.score(x_test, y_test)\n",
    "print(score)"
   ]
  },
  {
   "cell_type": "code",
   "execution_count": null,
   "metadata": {},
   "outputs": [],
   "source": [
    "score"
   ]
  },
  {
   "cell_type": "code",
   "execution_count": null,
   "metadata": {},
   "outputs": [],
   "source": [
    "# Look into model coefficients\n",
    "coeffs_df = pd.DataFrame({'Coefficients' : lr.coef_[0], 'Features' : vect.get_feature_names() + feature_cols}).sort_values('Coefficients', ascending = False)\n",
    "coeffs_df.head(20)"
   ]
  },
  {
   "cell_type": "code",
   "execution_count": null,
   "metadata": {},
   "outputs": [],
   "source": [
    "# Quick look at the tail\n",
    "coeffs_df.tail(20)"
   ]
  },
  {
   "cell_type": "code",
   "execution_count": null,
   "metadata": {},
   "outputs": [],
   "source": [
    "# Look specifically at the coefficients for each user account\n",
    "coeffs_df['user'] = coeffs_df.Features.map(lambda x: 1 if x.startswith('@') else 0)\n",
    "coeffs_df.loc[coeffs_df['user']  == 1]"
   ]
  },
  {
   "cell_type": "code",
   "execution_count": null,
   "metadata": {},
   "outputs": [],
   "source": [
    "len(pred)"
   ]
  },
  {
   "cell_type": "markdown",
   "metadata": {},
   "source": [
    "##### 5.211 Evaluate model"
   ]
  },
  {
   "cell_type": "code",
   "execution_count": null,
   "metadata": {},
   "outputs": [],
   "source": [
    "# create a new df for test scores\n",
    "model_output = tweets_BTC_modelling_df.loc[y_test.index]\n",
    "\n",
    "model_output['prediction'] = pred"
   ]
  },
  {
   "cell_type": "code",
   "execution_count": null,
   "metadata": {},
   "outputs": [],
   "source": [
    "# Take a look at confusion matrix\n",
    "conmat = metrics.confusion_matrix(model_output['positive_change_5mins'].values, model_output['prediction'].values)\n",
    "classes = np.array([ 0.,  1.])\n",
    "plot_confusion_matrix(conmat, classes)"
   ]
  },
  {
   "cell_type": "code",
   "execution_count": null,
   "metadata": {},
   "outputs": [],
   "source": [
    "print(classification_report(model_output['positive_change_5mins'], model_output['prediction']))"
   ]
  },
  {
   "cell_type": "markdown",
   "metadata": {},
   "source": [
    "#### 5.22 Predicting positive change 5 mins later using lemmatized words"
   ]
  },
  {
   "cell_type": "code",
   "execution_count": 9,
   "metadata": {},
   "outputs": [],
   "source": [
    "# Change the column\n",
    "tweets_BTC_modelling_df['lemma_tweet'] = tweets_BTC_modelling_df['text_lemma'].map(lambda x: ' '.join(x) if len(x) > 0 else '')"
   ]
  },
  {
   "cell_type": "code",
   "execution_count": 13,
   "metadata": {},
   "outputs": [],
   "source": [
    "# Increase max_features to get better results\n",
    "vect_lem = TfidfVectorizer(max_features=5000, ngram_range=(3,5),stop_words=add_stop_words)\n",
    "\n",
    "vect_lem.fit(tweets_BTC_modelling_df['lemma_tweet'])\n",
    "\n",
    "text_lemma = vect_lem.transform(tweets_BTC_modelling_df['lemma_tweet']).toarray()"
   ]
  },
  {
   "cell_type": "code",
   "execution_count": 14,
   "metadata": {},
   "outputs": [],
   "source": [
    "# Set up model columns\n",
    "feat_model_cols = [col for col in tweets_BTC_modelling_df.columns if col.startswith('@')]\n",
    "\n",
    "feature_cols = list(tweets_BTC_modelling_df.columns[2:6]) + feat_model_cols + ['overall_sentiment']"
   ]
  },
  {
   "cell_type": "code",
   "execution_count": 15,
   "metadata": {},
   "outputs": [],
   "source": [
    "non_text_features = tweets_BTC_modelling_df[feature_cols].as_matrix()"
   ]
  },
  {
   "cell_type": "code",
   "execution_count": 16,
   "metadata": {},
   "outputs": [
    {
     "name": "stdout",
     "output_type": "stream",
     "text": [
      "Wall time: 6.01 s\n"
     ]
    }
   ],
   "source": [
    "%%time\n",
    "x = np.hstack((text_lemma, non_text_features))"
   ]
  },
  {
   "cell_type": "code",
   "execution_count": 17,
   "metadata": {},
   "outputs": [
    {
     "name": "stdout",
     "output_type": "stream",
     "text": [
      "(68754, 5060) (29467, 5060)\n",
      "(68754,) (29467,)\n",
      "0.5162045678216309\n",
      "Wall time: 13.4 s\n"
     ]
    }
   ],
   "source": [
    "%%time\n",
    "# Model\n",
    "lr = LogisticRegression()\n",
    "\n",
    "y = tweets_BTC_modelling_df['positive_change_5mins']\n",
    "\n",
    "x_train, x_test, y_train, y_test = train_test_split(x, y, test_size=0.3, random_state=42)\n",
    "\n",
    "print(x_train.shape, x_test.shape)\n",
    "print(y_train.shape, y_test.shape)\n",
    "\n",
    "lr.fit(x_train, y_train)\n",
    "\n",
    "pred = lr.predict(x_test)\n",
    "\n",
    "score = lr.score(x_test, y_test)\n",
    "print(score)"
   ]
  },
  {
   "cell_type": "code",
   "execution_count": 19,
   "metadata": {},
   "outputs": [
    {
     "data": {
      "text/html": [
       "<div>\n",
       "<style scoped>\n",
       "    .dataframe tbody tr th:only-of-type {\n",
       "        vertical-align: middle;\n",
       "    }\n",
       "\n",
       "    .dataframe tbody tr th {\n",
       "        vertical-align: top;\n",
       "    }\n",
       "\n",
       "    .dataframe thead th {\n",
       "        text-align: right;\n",
       "    }\n",
       "</style>\n",
       "<table border=\"1\" class=\"dataframe\">\n",
       "  <thead>\n",
       "    <tr style=\"text-align: right;\">\n",
       "      <th></th>\n",
       "      <th>Coefficients</th>\n",
       "      <th>Features</th>\n",
       "    </tr>\n",
       "  </thead>\n",
       "  <tbody>\n",
       "    <tr>\n",
       "      <th>2933</th>\n",
       "      <td>1.378523</td>\n",
       "      <td>long term investment</td>\n",
       "    </tr>\n",
       "    <tr>\n",
       "      <th>2472</th>\n",
       "      <td>1.318756</td>\n",
       "      <td>good time buy</td>\n",
       "    </tr>\n",
       "    <tr>\n",
       "      <th>3441</th>\n",
       "      <td>1.284843</td>\n",
       "      <td>position ow ly</td>\n",
       "    </tr>\n",
       "    <tr>\n",
       "      <th>800</th>\n",
       "      <td>1.283294</td>\n",
       "      <td>bitcoinhttp bit ly</td>\n",
       "    </tr>\n",
       "    <tr>\n",
       "      <th>134</th>\n",
       "      <td>1.280258</td>\n",
       "      <td>2018 bit ly</td>\n",
       "    </tr>\n",
       "    <tr>\n",
       "      <th>1147</th>\n",
       "      <td>1.273334</td>\n",
       "      <td>china bitcoin exchange</td>\n",
       "    </tr>\n",
       "    <tr>\n",
       "      <th>3899</th>\n",
       "      <td>1.266846</td>\n",
       "      <td>sound like fun</td>\n",
       "    </tr>\n",
       "    <tr>\n",
       "      <th>2692</th>\n",
       "      <td>1.241147</td>\n",
       "      <td>index php topic 421615</td>\n",
       "    </tr>\n",
       "    <tr>\n",
       "      <th>2715</th>\n",
       "      <td>1.234962</td>\n",
       "      <td>initial coin offer</td>\n",
       "    </tr>\n",
       "    <tr>\n",
       "      <th>1793</th>\n",
       "      <td>1.234869</td>\n",
       "      <td>content uploads 2016</td>\n",
       "    </tr>\n",
       "  </tbody>\n",
       "</table>\n",
       "</div>"
      ],
      "text/plain": [
       "      Coefficients                Features\n",
       "2933      1.378523    long term investment\n",
       "2472      1.318756           good time buy\n",
       "3441      1.284843          position ow ly\n",
       "800       1.283294      bitcoinhttp bit ly\n",
       "134       1.280258             2018 bit ly\n",
       "1147      1.273334  china bitcoin exchange\n",
       "3899      1.266846          sound like fun\n",
       "2692      1.241147  index php topic 421615\n",
       "2715      1.234962      initial coin offer\n",
       "1793      1.234869    content uploads 2016"
      ]
     },
     "execution_count": 19,
     "metadata": {},
     "output_type": "execute_result"
    }
   ],
   "source": [
    "# Look into model coefficients\n",
    "coeffs_df = pd.DataFrame({'Coefficients' : lr.coef_[0], 'Features' : vect_lem.get_feature_names() + feature_cols}).sort_values('Coefficients', ascending = False)\n",
    "coeffs_df.head(10)"
   ]
  },
  {
   "cell_type": "code",
   "execution_count": 20,
   "metadata": {},
   "outputs": [
    {
     "data": {
      "text/html": [
       "<div>\n",
       "<style scoped>\n",
       "    .dataframe tbody tr th:only-of-type {\n",
       "        vertical-align: middle;\n",
       "    }\n",
       "\n",
       "    .dataframe tbody tr th {\n",
       "        vertical-align: top;\n",
       "    }\n",
       "\n",
       "    .dataframe thead th {\n",
       "        text-align: right;\n",
       "    }\n",
       "</style>\n",
       "<table border=\"1\" class=\"dataframe\">\n",
       "  <thead>\n",
       "    <tr style=\"text-align: right;\">\n",
       "      <th></th>\n",
       "      <th>Coefficients</th>\n",
       "      <th>Features</th>\n",
       "    </tr>\n",
       "  </thead>\n",
       "  <tbody>\n",
       "    <tr>\n",
       "      <th>3092</th>\n",
       "      <td>-1.310490</td>\n",
       "      <td>mgt capital investments</td>\n",
       "    </tr>\n",
       "    <tr>\n",
       "      <th>1033</th>\n",
       "      <td>-1.323051</td>\n",
       "      <td>business buff ly</td>\n",
       "    </tr>\n",
       "    <tr>\n",
       "      <th>4677</th>\n",
       "      <td>-1.353090</td>\n",
       "      <td>won twitter com</td>\n",
       "    </tr>\n",
       "    <tr>\n",
       "      <th>3135</th>\n",
       "      <td>-1.397428</td>\n",
       "      <td>monero research lab</td>\n",
       "    </tr>\n",
       "    <tr>\n",
       "      <th>4973</th>\n",
       "      <td>-1.400102</td>\n",
       "      <td>youtu kljuvc22l7y 47m30s</td>\n",
       "    </tr>\n",
       "    <tr>\n",
       "      <th>4724</th>\n",
       "      <td>-1.459987</td>\n",
       "      <td>www businessinsider com</td>\n",
       "    </tr>\n",
       "    <tr>\n",
       "      <th>2402</th>\n",
       "      <td>-1.491776</td>\n",
       "      <td>genesis block address</td>\n",
       "    </tr>\n",
       "    <tr>\n",
       "      <th>458</th>\n",
       "      <td>-1.503740</td>\n",
       "      <td>australian securities exchange</td>\n",
       "    </tr>\n",
       "    <tr>\n",
       "      <th>2863</th>\n",
       "      <td>-1.513628</td>\n",
       "      <td>like twitter com</td>\n",
       "    </tr>\n",
       "    <tr>\n",
       "      <th>2929</th>\n",
       "      <td>-1.745479</td>\n",
       "      <td>long term coin</td>\n",
       "    </tr>\n",
       "  </tbody>\n",
       "</table>\n",
       "</div>"
      ],
      "text/plain": [
       "      Coefficients                        Features\n",
       "3092     -1.310490         mgt capital investments\n",
       "1033     -1.323051                business buff ly\n",
       "4677     -1.353090                 won twitter com\n",
       "3135     -1.397428             monero research lab\n",
       "4973     -1.400102        youtu kljuvc22l7y 47m30s\n",
       "4724     -1.459987         www businessinsider com\n",
       "2402     -1.491776           genesis block address\n",
       "458      -1.503740  australian securities exchange\n",
       "2863     -1.513628                like twitter com\n",
       "2929     -1.745479                  long term coin"
      ]
     },
     "execution_count": 20,
     "metadata": {},
     "output_type": "execute_result"
    }
   ],
   "source": [
    "coeffs_df.tail(10)"
   ]
  },
  {
   "cell_type": "markdown",
   "metadata": {},
   "source": [
    "### 5.3 Linear Regression"
   ]
  },
  {
   "cell_type": "markdown",
   "metadata": {},
   "source": [
    "#### 5.31 Weighted Price"
   ]
  },
  {
   "cell_type": "code",
   "execution_count": 21,
   "metadata": {},
   "outputs": [
    {
     "name": "stdout",
     "output_type": "stream",
     "text": [
      "68754 29467\n",
      "68754 29467\n"
     ]
    }
   ],
   "source": [
    "# Set x to all feature columns, with one of the dummy columns removed\n",
    "y = tweets_BTC_modelling_df['Weighted_Price']\n",
    "\n",
    "y_train = y.loc[y_train.index]\n",
    "y_test = y.loc[y_test.index]\n",
    "\n",
    "#x_train, x_test, y_train, y_test = train_test_split(x, y, test_size=0.3, random_state=42)\n",
    "\n",
    "print(len(x_train), len(x_test))\n",
    "print(len(y_train), len(y_test))"
   ]
  },
  {
   "cell_type": "code",
   "execution_count": 22,
   "metadata": {},
   "outputs": [
    {
     "name": "stdout",
     "output_type": "stream",
     "text": [
      "MAE: 12560635.837167066\n",
      "MSE: 5.890714810449683e+17\n",
      "RMSE: 767509922.4407254\n",
      "RMSE (model): 767509922.4407254\n",
      "RMSE: (dumb model): 4298.632611289572\n"
     ]
    }
   ],
   "source": [
    "model = LinearRegression()\n",
    "model.fit(x_train, y_train)\n",
    "\n",
    "y_pred = model.predict(x_test)\n",
    "\n",
    "print('MAE:', metrics.mean_absolute_error(y_test, y_pred))\n",
    "print('MSE:', metrics.mean_squared_error(y_test, y_pred))\n",
    "print('RMSE:', np.sqrt(metrics.mean_squared_error(y_test, y_pred)))\n",
    "\n",
    "\n",
    "y_pred_mean = [y_train.mean()] * len(y_test)\n",
    "\n",
    "print('RMSE (model):', np.sqrt(metrics.mean_squared_error(y_test, y_pred)))\n",
    "print('RMSE: (dumb model):', np.sqrt(metrics.mean_squared_error(y_test, y_pred_mean)))"
   ]
  },
  {
   "cell_type": "code",
   "execution_count": 23,
   "metadata": {},
   "outputs": [
    {
     "name": "stdout",
     "output_type": "stream",
     "text": [
      "[-6.18069471e+19 -2.15173937e+19 -1.43553285e+07 -1.40856371e+07]\n"
     ]
    }
   ],
   "source": [
    "model = LinearRegression()\n",
    "\n",
    "cv_scores = cross_val_score(model, x_train, y_train, scoring=\"neg_mean_squared_error\", cv=4)\n",
    "\n",
    "print(cv_scores)"
   ]
  },
  {
   "cell_type": "markdown",
   "metadata": {},
   "source": [
    "#### 5.32 Weighted price change"
   ]
  },
  {
   "cell_type": "code",
   "execution_count": 24,
   "metadata": {},
   "outputs": [
    {
     "name": "stdout",
     "output_type": "stream",
     "text": [
      "68754 29467\n",
      "68754 29467\n",
      "MAE: 41318.86703133986\n",
      "MSE: 6373458585106.915\n",
      "RMSE: 2524570.9705030904\n",
      "RMSE (model): 2524570.9705030904\n",
      "RMSE: (dumb model): 33.36516402285933\n"
     ]
    }
   ],
   "source": [
    "y = tweets_BTC_modelling_df['price_change_5_mins']\n",
    "\n",
    "x_train, x_test, y_train, y_test = train_test_split(x, y, test_size=0.3, random_state=42)\n",
    "\n",
    "print(len(x_train), len(x_test))\n",
    "print(len(y_train), len(y_test))\n",
    "\n",
    "model = LinearRegression()\n",
    "model.fit(x_train, y_train)\n",
    "\n",
    "y_pred = model.predict(x_test)\n",
    "\n",
    "print('MAE:', metrics.mean_absolute_error(y_test, y_pred))\n",
    "print('MSE:', metrics.mean_squared_error(y_test, y_pred))\n",
    "print('RMSE:', np.sqrt(metrics.mean_squared_error(y_test, y_pred)))\n",
    "\n",
    "\n",
    "y_pred_mean = [y_train.mean()] * len(y_test)\n",
    "\n",
    "print('RMSE (model):', np.sqrt(metrics.mean_squared_error(y_test, y_pred)))\n",
    "print('RMSE: (dumb model):', np.sqrt(metrics.mean_squared_error(y_test, y_pred_mean)))"
   ]
  },
  {
   "cell_type": "code",
   "execution_count": 25,
   "metadata": {},
   "outputs": [
    {
     "name": "stdout",
     "output_type": "stream",
     "text": [
      "[-5.27297522e+15 -1.70345236e+15 -1.05324015e+03 -1.36864368e+03]\n"
     ]
    }
   ],
   "source": [
    "model = LinearRegression()\n",
    "\n",
    "cv_scores = cross_val_score(model, x_train, y_train, scoring=\"neg_mean_squared_error\", cv=4)\n",
    "\n",
    "print(cv_scores)"
   ]
  },
  {
   "cell_type": "markdown",
   "metadata": {},
   "source": [
    "## 6.0 Evaluate model"
   ]
  },
  {
   "cell_type": "markdown",
   "metadata": {},
   "source": [
    "### 6.1 Calculate baseline"
   ]
  },
  {
   "cell_type": "code",
   "execution_count": 26,
   "metadata": {},
   "outputs": [
    {
     "data": {
      "text/plain": [
       "1    50025\n",
       "0    48196\n",
       "Name: positive_change_5mins, dtype: int64"
      ]
     },
     "execution_count": 26,
     "metadata": {},
     "output_type": "execute_result"
    }
   ],
   "source": [
    "tweets_BTC_modelling_df['positive_change_5mins'].value_counts()"
   ]
  },
  {
   "cell_type": "code",
   "execution_count": 27,
   "metadata": {},
   "outputs": [
    {
     "data": {
      "text/plain": [
       "50.93106362183239"
      ]
     },
     "execution_count": 27,
     "metadata": {},
     "output_type": "execute_result"
    }
   ],
   "source": [
    "(tweets_BTC_modelling_df['positive_change_5mins'].value_counts()[1]/(tweets_BTC_modelling_df['positive_change_5mins'].value_counts()[1]+tweets_BTC_modelling_df['positive_change_5mins'].value_counts()[0]))*100"
   ]
  },
  {
   "cell_type": "code",
   "execution_count": null,
   "metadata": {},
   "outputs": [],
   "source": []
  },
  {
   "cell_type": "code",
   "execution_count": null,
   "metadata": {},
   "outputs": [],
   "source": []
  },
  {
   "cell_type": "code",
   "execution_count": null,
   "metadata": {},
   "outputs": [],
   "source": []
  }
 ],
 "metadata": {
  "kernelspec": {
   "display_name": "Python 3",
   "language": "python",
   "name": "python3"
  },
  "language_info": {
   "codemirror_mode": {
    "name": "ipython",
    "version": 3
   },
   "file_extension": ".py",
   "mimetype": "text/x-python",
   "name": "python",
   "nbconvert_exporter": "python",
   "pygments_lexer": "ipython3",
   "version": "3.7.7"
  }
 },
 "nbformat": 4,
 "nbformat_minor": 2
}
