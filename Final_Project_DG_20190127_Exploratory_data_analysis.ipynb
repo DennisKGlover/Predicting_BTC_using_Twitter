{
 "cells": [
  {
   "cell_type": "markdown",
   "metadata": {},
   "source": [
    "# Exploratory_data_analysis"
   ]
  },
  {
   "cell_type": "markdown",
   "metadata": {},
   "source": [
    "## Next Steps\n",
    "1. Map Bitcoin price data to Tweet data"
   ]
  },
  {
   "cell_type": "markdown",
   "metadata": {},
   "source": [
    "#### Notes\n",
    "- Could flag for keywords e.g. ETF"
   ]
  },
  {
   "cell_type": "markdown",
   "metadata": {},
   "source": [
    "## Code"
   ]
  },
  {
   "cell_type": "code",
   "execution_count": 1,
   "metadata": {},
   "outputs": [],
   "source": [
    "import pandas as pd\n",
    "import numpy as np\n",
    "\n",
    "import matplotlib.pyplot as plt\n",
    "\n",
    "%matplotlib inline\n",
    "\n",
    "import time\n",
    "\n",
    "import datetime as dt"
   ]
  },
  {
   "cell_type": "code",
   "execution_count": 2,
   "metadata": {},
   "outputs": [],
   "source": [
    "plt.rcParams['figure.figsize'] = (8, 6)\n",
    "plt.rcParams['font.size'] = 14"
   ]
  },
  {
   "cell_type": "markdown",
   "metadata": {},
   "source": [
    "### Read in data"
   ]
  },
  {
   "cell_type": "code",
   "execution_count": 3,
   "metadata": {},
   "outputs": [],
   "source": [
    "# Tweet data\n",
    "tweet_data = pd.read_csv('all_tweets_data_BACKUP_20190115_7.csv', index_col=0)\n",
    "tweet_data_2 = pd.read_csv('1.Data\\\\all_tweets_data_BACKUP_20190110.csv', index_col=0)"
   ]
  },
  {
   "cell_type": "code",
   "execution_count": 4,
   "metadata": {},
   "outputs": [],
   "source": [
    "tweets_master = tweet_data.append(tweet_data_2).drop_duplicates()"
   ]
  },
  {
   "cell_type": "code",
   "execution_count": 38,
   "metadata": {},
   "outputs": [],
   "source": [
    "# Bitcoin data\n",
    "bitcoin_data = pd.read_csv('1.Data\\\\bitstampUSD_1-min_data_2012-01-01_to_2018-11-11.csv')\n",
    "CB_bitcoin_data = pd.read_csv('1.Data\\\\coinbaseUSD_1-min_data_2014-12-01_to_2018-11-11.csv')"
   ]
  },
  {
   "cell_type": "markdown",
   "metadata": {},
   "source": [
    "### Look at data"
   ]
  },
  {
   "cell_type": "code",
   "execution_count": 39,
   "metadata": {},
   "outputs": [
    {
     "data": {
      "text/html": [
       "<div>\n",
       "<style scoped>\n",
       "    .dataframe tbody tr th:only-of-type {\n",
       "        vertical-align: middle;\n",
       "    }\n",
       "\n",
       "    .dataframe tbody tr th {\n",
       "        vertical-align: top;\n",
       "    }\n",
       "\n",
       "    .dataframe thead th {\n",
       "        text-align: right;\n",
       "    }\n",
       "</style>\n",
       "<table border=\"1\" class=\"dataframe\">\n",
       "  <thead>\n",
       "    <tr style=\"text-align: right;\">\n",
       "      <th></th>\n",
       "      <th>date</th>\n",
       "      <th>exchange</th>\n",
       "      <th>influencer</th>\n",
       "      <th>news</th>\n",
       "      <th>project</th>\n",
       "      <th>retweets</th>\n",
       "      <th>tweet_text</th>\n",
       "      <th>user</th>\n",
       "    </tr>\n",
       "  </thead>\n",
       "  <tbody>\n",
       "    <tr>\n",
       "      <th>0</th>\n",
       "      <td>2019-01-15 05:54:12</td>\n",
       "      <td>0</td>\n",
       "      <td>1</td>\n",
       "      <td>0</td>\n",
       "      <td>0</td>\n",
       "      <td>0</td>\n",
       "      <td>https://www.theguardian.com/world/2019/jan/15/...</td>\n",
       "      <td>@mikojava</td>\n",
       "    </tr>\n",
       "    <tr>\n",
       "      <th>1</th>\n",
       "      <td>2019-01-11 22:27:50</td>\n",
       "      <td>0</td>\n",
       "      <td>1</td>\n",
       "      <td>0</td>\n",
       "      <td>0</td>\n",
       "      <td>0</td>\n",
       "      <td>https://www.facebook.com/mikos/posts/101580781...</td>\n",
       "      <td>@mikojava</td>\n",
       "    </tr>\n",
       "  </tbody>\n",
       "</table>\n",
       "</div>"
      ],
      "text/plain": [
       "                  date  exchange  influencer  news  project  retweets  \\\n",
       "0  2019-01-15 05:54:12         0           1     0        0         0   \n",
       "1  2019-01-11 22:27:50         0           1     0        0         0   \n",
       "\n",
       "                                          tweet_text       user  \n",
       "0  https://www.theguardian.com/world/2019/jan/15/...  @mikojava  \n",
       "1  https://www.facebook.com/mikos/posts/101580781...  @mikojava  "
      ]
     },
     "execution_count": 39,
     "metadata": {},
     "output_type": "execute_result"
    }
   ],
   "source": [
    "tweet_data.head(2)"
   ]
  },
  {
   "cell_type": "code",
   "execution_count": 40,
   "metadata": {},
   "outputs": [
    {
     "data": {
      "text/plain": [
       "(501439, 8)"
      ]
     },
     "execution_count": 40,
     "metadata": {},
     "output_type": "execute_result"
    }
   ],
   "source": [
    "tweet_data.shape"
   ]
  },
  {
   "cell_type": "code",
   "execution_count": 41,
   "metadata": {},
   "outputs": [
    {
     "data": {
      "text/plain": [
       "(237191, 8)"
      ]
     },
     "execution_count": 41,
     "metadata": {},
     "output_type": "execute_result"
    }
   ],
   "source": [
    "tweet_data_2.shape"
   ]
  },
  {
   "cell_type": "code",
   "execution_count": 42,
   "metadata": {},
   "outputs": [
    {
     "data": {
      "text/plain": [
       "(481627, 10)"
      ]
     },
     "execution_count": 42,
     "metadata": {},
     "output_type": "execute_result"
    }
   ],
   "source": [
    "tweets_master.shape"
   ]
  },
  {
   "cell_type": "code",
   "execution_count": 43,
   "metadata": {},
   "outputs": [
    {
     "data": {
      "text/plain": [
       "Timestamp                  0\n",
       "Open                 1214307\n",
       "High                 1214307\n",
       "Low                  1214307\n",
       "Close                1214307\n",
       "Volume_(BTC)         1214307\n",
       "Volume_(Currency)    1214307\n",
       "Weighted_Price       1214307\n",
       "dtype: int64"
      ]
     },
     "execution_count": 43,
     "metadata": {},
     "output_type": "execute_result"
    }
   ],
   "source": [
    "bitcoin_data.isnull().sum()"
   ]
  },
  {
   "cell_type": "code",
   "execution_count": 44,
   "metadata": {},
   "outputs": [
    {
     "data": {
      "text/plain": [
       "(3603136, 8)"
      ]
     },
     "execution_count": 44,
     "metadata": {},
     "output_type": "execute_result"
    }
   ],
   "source": [
    "bitcoin_data.shape"
   ]
  },
  {
   "cell_type": "code",
   "execution_count": 45,
   "metadata": {},
   "outputs": [
    {
     "data": {
      "text/plain": [
       "Timestamp                 0\n",
       "Open                 108957\n",
       "High                 108957\n",
       "Low                  108957\n",
       "Close                108957\n",
       "Volume_(BTC)         108957\n",
       "Volume_(Currency)    108957\n",
       "Weighted_Price       108957\n",
       "dtype: int64"
      ]
     },
     "execution_count": 45,
     "metadata": {},
     "output_type": "execute_result"
    }
   ],
   "source": [
    "CB_bitcoin_data.isnull().sum()"
   ]
  },
  {
   "cell_type": "code",
   "execution_count": 46,
   "metadata": {},
   "outputs": [
    {
     "data": {
      "text/plain": [
       "(2016354, 8)"
      ]
     },
     "execution_count": 46,
     "metadata": {},
     "output_type": "execute_result"
    }
   ],
   "source": [
    "CB_bitcoin_data.shape"
   ]
  },
  {
   "cell_type": "code",
   "execution_count": 47,
   "metadata": {},
   "outputs": [
    {
     "data": {
      "text/html": [
       "<div>\n",
       "<style scoped>\n",
       "    .dataframe tbody tr th:only-of-type {\n",
       "        vertical-align: middle;\n",
       "    }\n",
       "\n",
       "    .dataframe tbody tr th {\n",
       "        vertical-align: top;\n",
       "    }\n",
       "\n",
       "    .dataframe thead th {\n",
       "        text-align: right;\n",
       "    }\n",
       "</style>\n",
       "<table border=\"1\" class=\"dataframe\">\n",
       "  <thead>\n",
       "    <tr style=\"text-align: right;\">\n",
       "      <th></th>\n",
       "      <th>Timestamp</th>\n",
       "      <th>Open</th>\n",
       "      <th>High</th>\n",
       "      <th>Low</th>\n",
       "      <th>Close</th>\n",
       "      <th>Volume_(BTC)</th>\n",
       "      <th>Volume_(Currency)</th>\n",
       "      <th>Weighted_Price</th>\n",
       "    </tr>\n",
       "  </thead>\n",
       "  <tbody>\n",
       "    <tr>\n",
       "      <th>0</th>\n",
       "      <td>1325317920</td>\n",
       "      <td>4.39</td>\n",
       "      <td>4.39</td>\n",
       "      <td>4.39</td>\n",
       "      <td>4.39</td>\n",
       "      <td>0.455581</td>\n",
       "      <td>2.0</td>\n",
       "      <td>4.39</td>\n",
       "    </tr>\n",
       "    <tr>\n",
       "      <th>1</th>\n",
       "      <td>1325317980</td>\n",
       "      <td>NaN</td>\n",
       "      <td>NaN</td>\n",
       "      <td>NaN</td>\n",
       "      <td>NaN</td>\n",
       "      <td>NaN</td>\n",
       "      <td>NaN</td>\n",
       "      <td>NaN</td>\n",
       "    </tr>\n",
       "    <tr>\n",
       "      <th>2</th>\n",
       "      <td>1325318040</td>\n",
       "      <td>NaN</td>\n",
       "      <td>NaN</td>\n",
       "      <td>NaN</td>\n",
       "      <td>NaN</td>\n",
       "      <td>NaN</td>\n",
       "      <td>NaN</td>\n",
       "      <td>NaN</td>\n",
       "    </tr>\n",
       "  </tbody>\n",
       "</table>\n",
       "</div>"
      ],
      "text/plain": [
       "    Timestamp  Open  High   Low  Close  Volume_(BTC)  Volume_(Currency)  \\\n",
       "0  1325317920  4.39  4.39  4.39   4.39      0.455581                2.0   \n",
       "1  1325317980   NaN   NaN   NaN    NaN           NaN                NaN   \n",
       "2  1325318040   NaN   NaN   NaN    NaN           NaN                NaN   \n",
       "\n",
       "   Weighted_Price  \n",
       "0            4.39  \n",
       "1             NaN  \n",
       "2             NaN  "
      ]
     },
     "execution_count": 47,
     "metadata": {},
     "output_type": "execute_result"
    }
   ],
   "source": [
    "bitcoin_data.head(3)"
   ]
  },
  {
   "cell_type": "code",
   "execution_count": 48,
   "metadata": {},
   "outputs": [
    {
     "data": {
      "text/html": [
       "<div>\n",
       "<style scoped>\n",
       "    .dataframe tbody tr th:only-of-type {\n",
       "        vertical-align: middle;\n",
       "    }\n",
       "\n",
       "    .dataframe tbody tr th {\n",
       "        vertical-align: top;\n",
       "    }\n",
       "\n",
       "    .dataframe thead th {\n",
       "        text-align: right;\n",
       "    }\n",
       "</style>\n",
       "<table border=\"1\" class=\"dataframe\">\n",
       "  <thead>\n",
       "    <tr style=\"text-align: right;\">\n",
       "      <th></th>\n",
       "      <th>Timestamp</th>\n",
       "      <th>Open</th>\n",
       "      <th>High</th>\n",
       "      <th>Low</th>\n",
       "      <th>Close</th>\n",
       "      <th>Volume_(BTC)</th>\n",
       "      <th>Volume_(Currency)</th>\n",
       "      <th>Weighted_Price</th>\n",
       "    </tr>\n",
       "  </thead>\n",
       "  <tbody>\n",
       "    <tr>\n",
       "      <th>0</th>\n",
       "      <td>1417411980</td>\n",
       "      <td>300.0</td>\n",
       "      <td>300.0</td>\n",
       "      <td>300.0</td>\n",
       "      <td>300.0</td>\n",
       "      <td>0.01</td>\n",
       "      <td>3.0</td>\n",
       "      <td>300.0</td>\n",
       "    </tr>\n",
       "    <tr>\n",
       "      <th>1</th>\n",
       "      <td>1417412040</td>\n",
       "      <td>NaN</td>\n",
       "      <td>NaN</td>\n",
       "      <td>NaN</td>\n",
       "      <td>NaN</td>\n",
       "      <td>NaN</td>\n",
       "      <td>NaN</td>\n",
       "      <td>NaN</td>\n",
       "    </tr>\n",
       "  </tbody>\n",
       "</table>\n",
       "</div>"
      ],
      "text/plain": [
       "    Timestamp   Open   High    Low  Close  Volume_(BTC)  Volume_(Currency)  \\\n",
       "0  1417411980  300.0  300.0  300.0  300.0          0.01                3.0   \n",
       "1  1417412040    NaN    NaN    NaN    NaN           NaN                NaN   \n",
       "\n",
       "   Weighted_Price  \n",
       "0           300.0  \n",
       "1             NaN  "
      ]
     },
     "execution_count": 48,
     "metadata": {},
     "output_type": "execute_result"
    }
   ],
   "source": [
    "CB_bitcoin_data.head(2)"
   ]
  },
  {
   "cell_type": "code",
   "execution_count": 49,
   "metadata": {},
   "outputs": [
    {
     "data": {
      "text/plain": [
       "Timestamp              int64\n",
       "Open                 float64\n",
       "High                 float64\n",
       "Low                  float64\n",
       "Close                float64\n",
       "Volume_(BTC)         float64\n",
       "Volume_(Currency)    float64\n",
       "Weighted_Price       float64\n",
       "dtype: object"
      ]
     },
     "execution_count": 49,
     "metadata": {},
     "output_type": "execute_result"
    }
   ],
   "source": [
    "CB_bitcoin_data.dtypes"
   ]
  },
  {
   "cell_type": "code",
   "execution_count": 50,
   "metadata": {},
   "outputs": [
    {
     "data": {
      "text/html": [
       "<div>\n",
       "<style scoped>\n",
       "    .dataframe tbody tr th:only-of-type {\n",
       "        vertical-align: middle;\n",
       "    }\n",
       "\n",
       "    .dataframe tbody tr th {\n",
       "        vertical-align: top;\n",
       "    }\n",
       "\n",
       "    .dataframe thead th {\n",
       "        text-align: right;\n",
       "    }\n",
       "</style>\n",
       "<table border=\"1\" class=\"dataframe\">\n",
       "  <thead>\n",
       "    <tr style=\"text-align: right;\">\n",
       "      <th></th>\n",
       "      <th>Timestamp</th>\n",
       "      <th>Open</th>\n",
       "      <th>High</th>\n",
       "      <th>Low</th>\n",
       "      <th>Close</th>\n",
       "      <th>Volume_(BTC)</th>\n",
       "      <th>Volume_(Currency)</th>\n",
       "      <th>Weighted_Price</th>\n",
       "    </tr>\n",
       "  </thead>\n",
       "  <tbody>\n",
       "    <tr>\n",
       "      <th>count</th>\n",
       "      <td>2.016354e+06</td>\n",
       "      <td>1.907397e+06</td>\n",
       "      <td>1.907397e+06</td>\n",
       "      <td>1.907397e+06</td>\n",
       "      <td>1.907397e+06</td>\n",
       "      <td>1.907397e+06</td>\n",
       "      <td>1.907397e+06</td>\n",
       "      <td>1.907397e+06</td>\n",
       "    </tr>\n",
       "    <tr>\n",
       "      <th>mean</th>\n",
       "      <td>1.481396e+09</td>\n",
       "      <td>3.208583e+03</td>\n",
       "      <td>3.209990e+03</td>\n",
       "      <td>3.207058e+03</td>\n",
       "      <td>3.208584e+03</td>\n",
       "      <td>7.684054e+00</td>\n",
       "      <td>3.551276e+04</td>\n",
       "      <td>3.208523e+03</td>\n",
       "    </tr>\n",
       "    <tr>\n",
       "      <th>std</th>\n",
       "      <td>3.493807e+07</td>\n",
       "      <td>3.873144e+03</td>\n",
       "      <td>3.875432e+03</td>\n",
       "      <td>3.870698e+03</td>\n",
       "      <td>3.873140e+03</td>\n",
       "      <td>1.820454e+01</td>\n",
       "      <td>1.411277e+05</td>\n",
       "      <td>3.873066e+03</td>\n",
       "    </tr>\n",
       "    <tr>\n",
       "      <th>min</th>\n",
       "      <td>1.417412e+09</td>\n",
       "      <td>6.000000e-02</td>\n",
       "      <td>6.000000e-02</td>\n",
       "      <td>6.000000e-02</td>\n",
       "      <td>6.000000e-02</td>\n",
       "      <td>1.000000e-08</td>\n",
       "      <td>2.641700e-06</td>\n",
       "      <td>6.000000e-02</td>\n",
       "    </tr>\n",
       "    <tr>\n",
       "      <th>25%</th>\n",
       "      <td>1.451159e+09</td>\n",
       "      <td>4.156000e+02</td>\n",
       "      <td>4.156800e+02</td>\n",
       "      <td>4.155000e+02</td>\n",
       "      <td>4.155900e+02</td>\n",
       "      <td>8.776600e-01</td>\n",
       "      <td>5.962574e+02</td>\n",
       "      <td>4.155902e+02</td>\n",
       "    </tr>\n",
       "    <tr>\n",
       "      <th>50%</th>\n",
       "      <td>1.481404e+09</td>\n",
       "      <td>9.099600e+02</td>\n",
       "      <td>9.101000e+02</td>\n",
       "      <td>9.095700e+02</td>\n",
       "      <td>9.099800e+02</td>\n",
       "      <td>2.641103e+00</td>\n",
       "      <td>3.313449e+03</td>\n",
       "      <td>9.099194e+02</td>\n",
       "    </tr>\n",
       "    <tr>\n",
       "      <th>75%</th>\n",
       "      <td>1.511649e+09</td>\n",
       "      <td>6.374660e+03</td>\n",
       "      <td>6.375150e+03</td>\n",
       "      <td>6.373310e+03</td>\n",
       "      <td>6.374670e+03</td>\n",
       "      <td>7.478157e+00</td>\n",
       "      <td>1.855195e+04</td>\n",
       "      <td>6.374404e+03</td>\n",
       "    </tr>\n",
       "    <tr>\n",
       "      <th>max</th>\n",
       "      <td>1.541894e+09</td>\n",
       "      <td>1.989199e+04</td>\n",
       "      <td>1.989199e+04</td>\n",
       "      <td>1.989198e+04</td>\n",
       "      <td>1.989199e+04</td>\n",
       "      <td>1.563267e+03</td>\n",
       "      <td>1.997076e+07</td>\n",
       "      <td>1.989199e+04</td>\n",
       "    </tr>\n",
       "  </tbody>\n",
       "</table>\n",
       "</div>"
      ],
      "text/plain": [
       "          Timestamp          Open          High           Low         Close  \\\n",
       "count  2.016354e+06  1.907397e+06  1.907397e+06  1.907397e+06  1.907397e+06   \n",
       "mean   1.481396e+09  3.208583e+03  3.209990e+03  3.207058e+03  3.208584e+03   \n",
       "std    3.493807e+07  3.873144e+03  3.875432e+03  3.870698e+03  3.873140e+03   \n",
       "min    1.417412e+09  6.000000e-02  6.000000e-02  6.000000e-02  6.000000e-02   \n",
       "25%    1.451159e+09  4.156000e+02  4.156800e+02  4.155000e+02  4.155900e+02   \n",
       "50%    1.481404e+09  9.099600e+02  9.101000e+02  9.095700e+02  9.099800e+02   \n",
       "75%    1.511649e+09  6.374660e+03  6.375150e+03  6.373310e+03  6.374670e+03   \n",
       "max    1.541894e+09  1.989199e+04  1.989199e+04  1.989198e+04  1.989199e+04   \n",
       "\n",
       "       Volume_(BTC)  Volume_(Currency)  Weighted_Price  \n",
       "count  1.907397e+06       1.907397e+06    1.907397e+06  \n",
       "mean   7.684054e+00       3.551276e+04    3.208523e+03  \n",
       "std    1.820454e+01       1.411277e+05    3.873066e+03  \n",
       "min    1.000000e-08       2.641700e-06    6.000000e-02  \n",
       "25%    8.776600e-01       5.962574e+02    4.155902e+02  \n",
       "50%    2.641103e+00       3.313449e+03    9.099194e+02  \n",
       "75%    7.478157e+00       1.855195e+04    6.374404e+03  \n",
       "max    1.563267e+03       1.997076e+07    1.989199e+04  "
      ]
     },
     "execution_count": 50,
     "metadata": {},
     "output_type": "execute_result"
    }
   ],
   "source": [
    "CB_bitcoin_data.describe()"
   ]
  },
  {
   "cell_type": "code",
   "execution_count": 51,
   "metadata": {},
   "outputs": [],
   "source": [
    "# combine bitcoin data sets\n",
    "bitcoin_master = pd.concat([bitcoin_data,CB_bitcoin_data])"
   ]
  },
  {
   "cell_type": "code",
   "execution_count": 52,
   "metadata": {},
   "outputs": [
    {
     "data": {
      "text/plain": [
       "Index(['Timestamp', 'Open', 'High', 'Low', 'Close', 'Volume_(BTC)',\n",
       "       'Volume_(Currency)', 'Weighted_Price'],\n",
       "      dtype='object')"
      ]
     },
     "execution_count": 52,
     "metadata": {},
     "output_type": "execute_result"
    }
   ],
   "source": [
    "bitcoin_master.columns"
   ]
  },
  {
   "cell_type": "code",
   "execution_count": 54,
   "metadata": {},
   "outputs": [],
   "source": [
    "bitcoin_master_v2 = bitcoin_master.groupby(['Timestamp']).max()"
   ]
  },
  {
   "cell_type": "code",
   "execution_count": 55,
   "metadata": {},
   "outputs": [
    {
     "data": {
      "text/html": [
       "<div>\n",
       "<style scoped>\n",
       "    .dataframe tbody tr th:only-of-type {\n",
       "        vertical-align: middle;\n",
       "    }\n",
       "\n",
       "    .dataframe tbody tr th {\n",
       "        vertical-align: top;\n",
       "    }\n",
       "\n",
       "    .dataframe thead th {\n",
       "        text-align: right;\n",
       "    }\n",
       "</style>\n",
       "<table border=\"1\" class=\"dataframe\">\n",
       "  <thead>\n",
       "    <tr style=\"text-align: right;\">\n",
       "      <th></th>\n",
       "      <th>Open</th>\n",
       "      <th>High</th>\n",
       "      <th>Low</th>\n",
       "      <th>Close</th>\n",
       "      <th>Volume_(BTC)</th>\n",
       "      <th>Volume_(Currency)</th>\n",
       "      <th>Weighted_Price</th>\n",
       "    </tr>\n",
       "    <tr>\n",
       "      <th>Timestamp</th>\n",
       "      <th></th>\n",
       "      <th></th>\n",
       "      <th></th>\n",
       "      <th></th>\n",
       "      <th></th>\n",
       "      <th></th>\n",
       "      <th></th>\n",
       "    </tr>\n",
       "  </thead>\n",
       "  <tbody>\n",
       "    <tr>\n",
       "      <th>1325317920</th>\n",
       "      <td>4.39</td>\n",
       "      <td>4.39</td>\n",
       "      <td>4.39</td>\n",
       "      <td>4.39</td>\n",
       "      <td>0.455581</td>\n",
       "      <td>2.0</td>\n",
       "      <td>4.39</td>\n",
       "    </tr>\n",
       "    <tr>\n",
       "      <th>1325317980</th>\n",
       "      <td>NaN</td>\n",
       "      <td>NaN</td>\n",
       "      <td>NaN</td>\n",
       "      <td>NaN</td>\n",
       "      <td>NaN</td>\n",
       "      <td>NaN</td>\n",
       "      <td>NaN</td>\n",
       "    </tr>\n",
       "    <tr>\n",
       "      <th>1325318040</th>\n",
       "      <td>NaN</td>\n",
       "      <td>NaN</td>\n",
       "      <td>NaN</td>\n",
       "      <td>NaN</td>\n",
       "      <td>NaN</td>\n",
       "      <td>NaN</td>\n",
       "      <td>NaN</td>\n",
       "    </tr>\n",
       "    <tr>\n",
       "      <th>1325318100</th>\n",
       "      <td>NaN</td>\n",
       "      <td>NaN</td>\n",
       "      <td>NaN</td>\n",
       "      <td>NaN</td>\n",
       "      <td>NaN</td>\n",
       "      <td>NaN</td>\n",
       "      <td>NaN</td>\n",
       "    </tr>\n",
       "    <tr>\n",
       "      <th>1325318160</th>\n",
       "      <td>NaN</td>\n",
       "      <td>NaN</td>\n",
       "      <td>NaN</td>\n",
       "      <td>NaN</td>\n",
       "      <td>NaN</td>\n",
       "      <td>NaN</td>\n",
       "      <td>NaN</td>\n",
       "    </tr>\n",
       "  </tbody>\n",
       "</table>\n",
       "</div>"
      ],
      "text/plain": [
       "            Open  High   Low  Close  Volume_(BTC)  Volume_(Currency)  \\\n",
       "Timestamp                                                              \n",
       "1325317920  4.39  4.39  4.39   4.39      0.455581                2.0   \n",
       "1325317980   NaN   NaN   NaN    NaN           NaN                NaN   \n",
       "1325318040   NaN   NaN   NaN    NaN           NaN                NaN   \n",
       "1325318100   NaN   NaN   NaN    NaN           NaN                NaN   \n",
       "1325318160   NaN   NaN   NaN    NaN           NaN                NaN   \n",
       "\n",
       "            Weighted_Price  \n",
       "Timestamp                   \n",
       "1325317920            4.39  \n",
       "1325317980             NaN  \n",
       "1325318040             NaN  \n",
       "1325318100             NaN  \n",
       "1325318160             NaN  "
      ]
     },
     "execution_count": 55,
     "metadata": {},
     "output_type": "execute_result"
    }
   ],
   "source": [
    "bitcoin_master_v2.head()"
   ]
  },
  {
   "cell_type": "code",
   "execution_count": 56,
   "metadata": {},
   "outputs": [
    {
     "data": {
      "text/plain": [
       "Open                 870120\n",
       "High                 870120\n",
       "Low                  870120\n",
       "Close                870120\n",
       "Volume_(BTC)         870120\n",
       "Volume_(Currency)    870120\n",
       "Weighted_Price       870120\n",
       "dtype: int64"
      ]
     },
     "execution_count": 56,
     "metadata": {},
     "output_type": "execute_result"
    }
   ],
   "source": [
    "bitcoin_master_v2.isnull().sum()"
   ]
  },
  {
   "cell_type": "code",
   "execution_count": 57,
   "metadata": {},
   "outputs": [
    {
     "data": {
      "text/plain": [
       "(3604273, 7)"
      ]
     },
     "execution_count": 57,
     "metadata": {},
     "output_type": "execute_result"
    }
   ],
   "source": [
    "bitcoin_master_v2.shape"
   ]
  },
  {
   "cell_type": "code",
   "execution_count": 75,
   "metadata": {},
   "outputs": [],
   "source": [
    "bitcoin_master_v2.reset_index(inplace=True)"
   ]
  },
  {
   "cell_type": "markdown",
   "metadata": {},
   "source": [
    "### Prep data"
   ]
  },
  {
   "cell_type": "code",
   "execution_count": 76,
   "metadata": {},
   "outputs": [],
   "source": [
    "## BITCOIN\n",
    "bitcoin_master_v2['Timestamp_DT'] = bitcoin_master_v2['Timestamp'].map(lambda x: time.strftime('%Y-%m-%d %H:%M:%S', time.localtime(x)))"
   ]
  },
  {
   "cell_type": "code",
   "execution_count": 77,
   "metadata": {},
   "outputs": [
    {
     "data": {
      "text/html": [
       "<div>\n",
       "<style scoped>\n",
       "    .dataframe tbody tr th:only-of-type {\n",
       "        vertical-align: middle;\n",
       "    }\n",
       "\n",
       "    .dataframe tbody tr th {\n",
       "        vertical-align: top;\n",
       "    }\n",
       "\n",
       "    .dataframe thead th {\n",
       "        text-align: right;\n",
       "    }\n",
       "</style>\n",
       "<table border=\"1\" class=\"dataframe\">\n",
       "  <thead>\n",
       "    <tr style=\"text-align: right;\">\n",
       "      <th></th>\n",
       "      <th>Timestamp</th>\n",
       "      <th>Open</th>\n",
       "      <th>High</th>\n",
       "      <th>Low</th>\n",
       "      <th>Close</th>\n",
       "      <th>Volume_(BTC)</th>\n",
       "      <th>Volume_(Currency)</th>\n",
       "      <th>Weighted_Price</th>\n",
       "      <th>Timestamp_DT</th>\n",
       "    </tr>\n",
       "  </thead>\n",
       "  <tbody>\n",
       "    <tr>\n",
       "      <th>3604268</th>\n",
       "      <td>1541894160</td>\n",
       "      <td>6348.54</td>\n",
       "      <td>6349.01</td>\n",
       "      <td>6348.54</td>\n",
       "      <td>6349.01</td>\n",
       "      <td>0.484960</td>\n",
       "      <td>3078.241490</td>\n",
       "      <td>6348.936090</td>\n",
       "      <td>2018-11-10 23:56:00</td>\n",
       "    </tr>\n",
       "    <tr>\n",
       "      <th>3604269</th>\n",
       "      <td>1541894220</td>\n",
       "      <td>6349.01</td>\n",
       "      <td>6349.01</td>\n",
       "      <td>6349.01</td>\n",
       "      <td>6349.01</td>\n",
       "      <td>0.770757</td>\n",
       "      <td>4892.318043</td>\n",
       "      <td>6349.010000</td>\n",
       "      <td>2018-11-10 23:57:00</td>\n",
       "    </tr>\n",
       "    <tr>\n",
       "      <th>3604270</th>\n",
       "      <td>1541894280</td>\n",
       "      <td>6347.41</td>\n",
       "      <td>6347.42</td>\n",
       "      <td>6347.41</td>\n",
       "      <td>6347.42</td>\n",
       "      <td>1.213145</td>\n",
       "      <td>7700.341614</td>\n",
       "      <td>6347.418653</td>\n",
       "      <td>2018-11-10 23:58:00</td>\n",
       "    </tr>\n",
       "    <tr>\n",
       "      <th>3604271</th>\n",
       "      <td>1541894340</td>\n",
       "      <td>6349.17</td>\n",
       "      <td>6349.32</td>\n",
       "      <td>6349.17</td>\n",
       "      <td>6349.32</td>\n",
       "      <td>1.714091</td>\n",
       "      <td>10880.053958</td>\n",
       "      <td>6349.214148</td>\n",
       "      <td>2018-11-10 23:59:00</td>\n",
       "    </tr>\n",
       "    <tr>\n",
       "      <th>3604272</th>\n",
       "      <td>1541894400</td>\n",
       "      <td>6347.42</td>\n",
       "      <td>6347.42</td>\n",
       "      <td>6347.41</td>\n",
       "      <td>6347.42</td>\n",
       "      <td>0.489324</td>\n",
       "      <td>3105.944897</td>\n",
       "      <td>6347.417439</td>\n",
       "      <td>2018-11-11 00:00:00</td>\n",
       "    </tr>\n",
       "  </tbody>\n",
       "</table>\n",
       "</div>"
      ],
      "text/plain": [
       "          Timestamp     Open     High      Low    Close  Volume_(BTC)  \\\n",
       "3604268  1541894160  6348.54  6349.01  6348.54  6349.01      0.484960   \n",
       "3604269  1541894220  6349.01  6349.01  6349.01  6349.01      0.770757   \n",
       "3604270  1541894280  6347.41  6347.42  6347.41  6347.42      1.213145   \n",
       "3604271  1541894340  6349.17  6349.32  6349.17  6349.32      1.714091   \n",
       "3604272  1541894400  6347.42  6347.42  6347.41  6347.42      0.489324   \n",
       "\n",
       "         Volume_(Currency)  Weighted_Price         Timestamp_DT  \n",
       "3604268        3078.241490     6348.936090  2018-11-10 23:56:00  \n",
       "3604269        4892.318043     6349.010000  2018-11-10 23:57:00  \n",
       "3604270        7700.341614     6347.418653  2018-11-10 23:58:00  \n",
       "3604271       10880.053958     6349.214148  2018-11-10 23:59:00  \n",
       "3604272        3105.944897     6347.417439  2018-11-11 00:00:00  "
      ]
     },
     "execution_count": 77,
     "metadata": {},
     "output_type": "execute_result"
    }
   ],
   "source": [
    "bitcoin_master_v2.tail()"
   ]
  },
  {
   "cell_type": "code",
   "execution_count": 78,
   "metadata": {},
   "outputs": [
    {
     "data": {
      "text/plain": [
       "(3604273, 9)"
      ]
     },
     "execution_count": 78,
     "metadata": {},
     "output_type": "execute_result"
    }
   ],
   "source": [
    "bitcoin_master_v2.shape"
   ]
  },
  {
   "cell_type": "code",
   "execution_count": 79,
   "metadata": {},
   "outputs": [
    {
     "data": {
      "text/plain": [
       "(481627, 10)"
      ]
     },
     "execution_count": 79,
     "metadata": {},
     "output_type": "execute_result"
    }
   ],
   "source": [
    "tweets_master.shape"
   ]
  },
  {
   "cell_type": "code",
   "execution_count": 80,
   "metadata": {},
   "outputs": [],
   "source": [
    "BTC_time_close_df = bitcoin_master_v2[['Timestamp_DT','Close']]"
   ]
  },
  {
   "cell_type": "code",
   "execution_count": 81,
   "metadata": {},
   "outputs": [],
   "source": [
    "## TWITTER\n",
    "tweets_master['Timestamp_DT'] = pd.to_datetime(tweets_master['date'])"
   ]
  },
  {
   "cell_type": "code",
   "execution_count": 82,
   "metadata": {},
   "outputs": [
    {
     "data": {
      "text/html": [
       "<div>\n",
       "<style scoped>\n",
       "    .dataframe tbody tr th:only-of-type {\n",
       "        vertical-align: middle;\n",
       "    }\n",
       "\n",
       "    .dataframe tbody tr th {\n",
       "        vertical-align: top;\n",
       "    }\n",
       "\n",
       "    .dataframe thead th {\n",
       "        text-align: right;\n",
       "    }\n",
       "</style>\n",
       "<table border=\"1\" class=\"dataframe\">\n",
       "  <thead>\n",
       "    <tr style=\"text-align: right;\">\n",
       "      <th></th>\n",
       "      <th>date</th>\n",
       "      <th>exchange</th>\n",
       "      <th>influencer</th>\n",
       "      <th>news</th>\n",
       "      <th>project</th>\n",
       "      <th>retweets</th>\n",
       "      <th>tweet_text</th>\n",
       "      <th>user</th>\n",
       "      <th>Timestamp_DT</th>\n",
       "      <th>Timestamp_DT_mins</th>\n",
       "    </tr>\n",
       "  </thead>\n",
       "  <tbody>\n",
       "    <tr>\n",
       "      <th>0</th>\n",
       "      <td>2019-01-15 05:54:12</td>\n",
       "      <td>0</td>\n",
       "      <td>1</td>\n",
       "      <td>0</td>\n",
       "      <td>0</td>\n",
       "      <td>0</td>\n",
       "      <td>https://www.theguardian.com/world/2019/jan/15/...</td>\n",
       "      <td>@mikojava</td>\n",
       "      <td>2019-01-15 05:54:12</td>\n",
       "      <td>2019-01-15 05:54:00</td>\n",
       "    </tr>\n",
       "    <tr>\n",
       "      <th>1</th>\n",
       "      <td>2019-01-11 22:27:50</td>\n",
       "      <td>0</td>\n",
       "      <td>1</td>\n",
       "      <td>0</td>\n",
       "      <td>0</td>\n",
       "      <td>0</td>\n",
       "      <td>https://www.facebook.com/mikos/posts/101580781...</td>\n",
       "      <td>@mikojava</td>\n",
       "      <td>2019-01-11 22:27:50</td>\n",
       "      <td>2019-01-11 22:27:00</td>\n",
       "    </tr>\n",
       "  </tbody>\n",
       "</table>\n",
       "</div>"
      ],
      "text/plain": [
       "                  date  exchange  influencer  news  project  retweets  \\\n",
       "0  2019-01-15 05:54:12         0           1     0        0         0   \n",
       "1  2019-01-11 22:27:50         0           1     0        0         0   \n",
       "\n",
       "                                          tweet_text       user  \\\n",
       "0  https://www.theguardian.com/world/2019/jan/15/...  @mikojava   \n",
       "1  https://www.facebook.com/mikos/posts/101580781...  @mikojava   \n",
       "\n",
       "         Timestamp_DT   Timestamp_DT_mins  \n",
       "0 2019-01-15 05:54:12 2019-01-15 05:54:00  \n",
       "1 2019-01-11 22:27:50 2019-01-11 22:27:00  "
      ]
     },
     "execution_count": 82,
     "metadata": {},
     "output_type": "execute_result"
    }
   ],
   "source": [
    "tweets_master.head(2)"
   ]
  },
  {
   "cell_type": "code",
   "execution_count": 83,
   "metadata": {},
   "outputs": [
    {
     "data": {
      "text/plain": [
       "date                         object\n",
       "exchange                      int64\n",
       "influencer                    int64\n",
       "news                          int64\n",
       "project                       int64\n",
       "retweets                      int64\n",
       "tweet_text                   object\n",
       "user                         object\n",
       "Timestamp_DT         datetime64[ns]\n",
       "Timestamp_DT_mins    datetime64[ns]\n",
       "dtype: object"
      ]
     },
     "execution_count": 83,
     "metadata": {},
     "output_type": "execute_result"
    }
   ],
   "source": [
    "tweets_master.dtypes"
   ]
  },
  {
   "cell_type": "code",
   "execution_count": 84,
   "metadata": {},
   "outputs": [],
   "source": [
    "tweets_master['Timestamp_DT_mins'] = tweets_master['Timestamp_DT'].values.astype('<M8[m]')"
   ]
  },
  {
   "cell_type": "code",
   "execution_count": 85,
   "metadata": {},
   "outputs": [],
   "source": [
    "tweets_by_minute = tweets_master.groupby('Timestamp_DT_mins')[['exchange','influencer','news','project']].count()"
   ]
  },
  {
   "cell_type": "markdown",
   "metadata": {},
   "source": [
    "### Visualise data"
   ]
  },
  {
   "cell_type": "code",
   "execution_count": 86,
   "metadata": {},
   "outputs": [
    {
     "data": {
      "text/plain": [
       "'2011-12-31 07:52:00'"
      ]
     },
     "execution_count": 86,
     "metadata": {},
     "output_type": "execute_result"
    }
   ],
   "source": [
    "bitcoin_master_v2['Timestamp_DT'].min()"
   ]
  },
  {
   "cell_type": "code",
   "execution_count": 87,
   "metadata": {},
   "outputs": [
    {
     "data": {
      "image/png": "[encoded data removed]",
      "text/plain": [
       "<matplotlib.figure.Figure at 0x1aa84ad3cc0>"
      ]
     },
     "metadata": {},
     "output_type": "display_data"
    }
   ],
   "source": [
    "BTC_time_close_df.plot()\n",
    "\n",
    "plt.show()"
   ]
  },
  {
   "cell_type": "code",
   "execution_count": 88,
   "metadata": {},
   "outputs": [
    {
     "data": {
      "image/png": "[encoded data removed]",
      "text/plain": [
       "<matplotlib.figure.Figure at 0x1ab04a206a0>"
      ]
     },
     "metadata": {},
     "output_type": "display_data"
    }
   ],
   "source": [
    "tweets_by_minute.plot()\n",
    "\n",
    "plt.show()"
   ]
  },
  {
   "cell_type": "code",
   "execution_count": 89,
   "metadata": {},
   "outputs": [
    {
     "data": {
      "text/html": [
       "<div>\n",
       "<style scoped>\n",
       "    .dataframe tbody tr th:only-of-type {\n",
       "        vertical-align: middle;\n",
       "    }\n",
       "\n",
       "    .dataframe tbody tr th {\n",
       "        vertical-align: top;\n",
       "    }\n",
       "\n",
       "    .dataframe thead th {\n",
       "        text-align: right;\n",
       "    }\n",
       "</style>\n",
       "<table border=\"1\" class=\"dataframe\">\n",
       "  <thead>\n",
       "    <tr style=\"text-align: right;\">\n",
       "      <th></th>\n",
       "      <th>date</th>\n",
       "      <th>exchange</th>\n",
       "      <th>influencer</th>\n",
       "      <th>news</th>\n",
       "      <th>project</th>\n",
       "      <th>retweets</th>\n",
       "      <th>tweet_text</th>\n",
       "      <th>user</th>\n",
       "      <th>Timestamp_DT</th>\n",
       "      <th>Timestamp_DT_mins</th>\n",
       "    </tr>\n",
       "  </thead>\n",
       "  <tbody>\n",
       "    <tr>\n",
       "      <th>0</th>\n",
       "      <td>2019-01-15 05:54:12</td>\n",
       "      <td>0</td>\n",
       "      <td>1</td>\n",
       "      <td>0</td>\n",
       "      <td>0</td>\n",
       "      <td>0</td>\n",
       "      <td>https://www.theguardian.com/world/2019/jan/15/...</td>\n",
       "      <td>@mikojava</td>\n",
       "      <td>2019-01-15 05:54:12</td>\n",
       "      <td>2019-01-15 05:54:00</td>\n",
       "    </tr>\n",
       "    <tr>\n",
       "      <th>1</th>\n",
       "      <td>2019-01-11 22:27:50</td>\n",
       "      <td>0</td>\n",
       "      <td>1</td>\n",
       "      <td>0</td>\n",
       "      <td>0</td>\n",
       "      <td>0</td>\n",
       "      <td>https://www.facebook.com/mikos/posts/101580781...</td>\n",
       "      <td>@mikojava</td>\n",
       "      <td>2019-01-11 22:27:50</td>\n",
       "      <td>2019-01-11 22:27:00</td>\n",
       "    </tr>\n",
       "    <tr>\n",
       "      <th>2</th>\n",
       "      <td>2019-01-11 14:22:52</td>\n",
       "      <td>0</td>\n",
       "      <td>1</td>\n",
       "      <td>0</td>\n",
       "      <td>0</td>\n",
       "      <td>0</td>\n",
       "      <td>Stripe is not 7 lines of code</td>\n",
       "      <td>@mikojava</td>\n",
       "      <td>2019-01-11 14:22:52</td>\n",
       "      <td>2019-01-11 14:22:00</td>\n",
       "    </tr>\n",
       "    <tr>\n",
       "      <th>3</th>\n",
       "      <td>2019-01-05 07:18:46</td>\n",
       "      <td>0</td>\n",
       "      <td>1</td>\n",
       "      <td>0</td>\n",
       "      <td>0</td>\n",
       "      <td>1</td>\n",
       "      <td>https://www.netflix.com/watch/80209469?trackId...</td>\n",
       "      <td>@mikojava</td>\n",
       "      <td>2019-01-05 07:18:46</td>\n",
       "      <td>2019-01-05 07:18:00</td>\n",
       "    </tr>\n",
       "    <tr>\n",
       "      <th>4</th>\n",
       "      <td>2019-01-03 19:41:30</td>\n",
       "      <td>0</td>\n",
       "      <td>1</td>\n",
       "      <td>0</td>\n",
       "      <td>0</td>\n",
       "      <td>0</td>\n",
       "      <td>Happy 10th birthday to the Bitcoin Genesis blo...</td>\n",
       "      <td>@mikojava</td>\n",
       "      <td>2019-01-03 19:41:30</td>\n",
       "      <td>2019-01-03 19:41:00</td>\n",
       "    </tr>\n",
       "  </tbody>\n",
       "</table>\n",
       "</div>"
      ],
      "text/plain": [
       "                  date  exchange  influencer  news  project  retweets  \\\n",
       "0  2019-01-15 05:54:12         0           1     0        0         0   \n",
       "1  2019-01-11 22:27:50         0           1     0        0         0   \n",
       "2  2019-01-11 14:22:52         0           1     0        0         0   \n",
       "3  2019-01-05 07:18:46         0           1     0        0         1   \n",
       "4  2019-01-03 19:41:30         0           1     0        0         0   \n",
       "\n",
       "                                          tweet_text       user  \\\n",
       "0  https://www.theguardian.com/world/2019/jan/15/...  @mikojava   \n",
       "1  https://www.facebook.com/mikos/posts/101580781...  @mikojava   \n",
       "2                      Stripe is not 7 lines of code  @mikojava   \n",
       "3  https://www.netflix.com/watch/80209469?trackId...  @mikojava   \n",
       "4  Happy 10th birthday to the Bitcoin Genesis blo...  @mikojava   \n",
       "\n",
       "         Timestamp_DT   Timestamp_DT_mins  \n",
       "0 2019-01-15 05:54:12 2019-01-15 05:54:00  \n",
       "1 2019-01-11 22:27:50 2019-01-11 22:27:00  \n",
       "2 2019-01-11 14:22:52 2019-01-11 14:22:00  \n",
       "3 2019-01-05 07:18:46 2019-01-05 07:18:00  \n",
       "4 2019-01-03 19:41:30 2019-01-03 19:41:00  "
      ]
     },
     "execution_count": 89,
     "metadata": {},
     "output_type": "execute_result"
    }
   ],
   "source": [
    "tweets_master.head()"
   ]
  },
  {
   "cell_type": "code",
   "execution_count": 90,
   "metadata": {},
   "outputs": [],
   "source": [
    "tweets_master.to_csv('2.Processed_data/Tweets_master_20180211.csv')"
   ]
  },
  {
   "cell_type": "code",
   "execution_count": 91,
   "metadata": {
    "scrolled": true
   },
   "outputs": [
    {
     "data": {
      "text/html": [
       "<div>\n",
       "<style scoped>\n",
       "    .dataframe tbody tr th:only-of-type {\n",
       "        vertical-align: middle;\n",
       "    }\n",
       "\n",
       "    .dataframe tbody tr th {\n",
       "        vertical-align: top;\n",
       "    }\n",
       "\n",
       "    .dataframe thead th {\n",
       "        text-align: right;\n",
       "    }\n",
       "</style>\n",
       "<table border=\"1\" class=\"dataframe\">\n",
       "  <thead>\n",
       "    <tr style=\"text-align: right;\">\n",
       "      <th></th>\n",
       "      <th>Timestamp</th>\n",
       "      <th>Open</th>\n",
       "      <th>High</th>\n",
       "      <th>Low</th>\n",
       "      <th>Close</th>\n",
       "      <th>Volume_(BTC)</th>\n",
       "      <th>Volume_(Currency)</th>\n",
       "      <th>Weighted_Price</th>\n",
       "      <th>Timestamp_DT</th>\n",
       "    </tr>\n",
       "  </thead>\n",
       "  <tbody>\n",
       "    <tr>\n",
       "      <th>0</th>\n",
       "      <td>1325317920</td>\n",
       "      <td>4.39</td>\n",
       "      <td>4.39</td>\n",
       "      <td>4.39</td>\n",
       "      <td>4.39</td>\n",
       "      <td>0.455581</td>\n",
       "      <td>2.0</td>\n",
       "      <td>4.39</td>\n",
       "      <td>2011-12-31 07:52:00</td>\n",
       "    </tr>\n",
       "    <tr>\n",
       "      <th>1</th>\n",
       "      <td>1325317980</td>\n",
       "      <td>NaN</td>\n",
       "      <td>NaN</td>\n",
       "      <td>NaN</td>\n",
       "      <td>NaN</td>\n",
       "      <td>NaN</td>\n",
       "      <td>NaN</td>\n",
       "      <td>NaN</td>\n",
       "      <td>2011-12-31 07:53:00</td>\n",
       "    </tr>\n",
       "    <tr>\n",
       "      <th>2</th>\n",
       "      <td>1325318040</td>\n",
       "      <td>NaN</td>\n",
       "      <td>NaN</td>\n",
       "      <td>NaN</td>\n",
       "      <td>NaN</td>\n",
       "      <td>NaN</td>\n",
       "      <td>NaN</td>\n",
       "      <td>NaN</td>\n",
       "      <td>2011-12-31 07:54:00</td>\n",
       "    </tr>\n",
       "    <tr>\n",
       "      <th>3</th>\n",
       "      <td>1325318100</td>\n",
       "      <td>NaN</td>\n",
       "      <td>NaN</td>\n",
       "      <td>NaN</td>\n",
       "      <td>NaN</td>\n",
       "      <td>NaN</td>\n",
       "      <td>NaN</td>\n",
       "      <td>NaN</td>\n",
       "      <td>2011-12-31 07:55:00</td>\n",
       "    </tr>\n",
       "    <tr>\n",
       "      <th>4</th>\n",
       "      <td>1325318160</td>\n",
       "      <td>NaN</td>\n",
       "      <td>NaN</td>\n",
       "      <td>NaN</td>\n",
       "      <td>NaN</td>\n",
       "      <td>NaN</td>\n",
       "      <td>NaN</td>\n",
       "      <td>NaN</td>\n",
       "      <td>2011-12-31 07:56:00</td>\n",
       "    </tr>\n",
       "  </tbody>\n",
       "</table>\n",
       "</div>"
      ],
      "text/plain": [
       "    Timestamp  Open  High   Low  Close  Volume_(BTC)  Volume_(Currency)  \\\n",
       "0  1325317920  4.39  4.39  4.39   4.39      0.455581                2.0   \n",
       "1  1325317980   NaN   NaN   NaN    NaN           NaN                NaN   \n",
       "2  1325318040   NaN   NaN   NaN    NaN           NaN                NaN   \n",
       "3  1325318100   NaN   NaN   NaN    NaN           NaN                NaN   \n",
       "4  1325318160   NaN   NaN   NaN    NaN           NaN                NaN   \n",
       "\n",
       "   Weighted_Price         Timestamp_DT  \n",
       "0            4.39  2011-12-31 07:52:00  \n",
       "1             NaN  2011-12-31 07:53:00  \n",
       "2             NaN  2011-12-31 07:54:00  \n",
       "3             NaN  2011-12-31 07:55:00  \n",
       "4             NaN  2011-12-31 07:56:00  "
      ]
     },
     "execution_count": 91,
     "metadata": {},
     "output_type": "execute_result"
    }
   ],
   "source": [
    "bitcoin_master_v2.head()"
   ]
  },
  {
   "cell_type": "code",
   "execution_count": 92,
   "metadata": {},
   "outputs": [],
   "source": [
    "bitcoin_master_v2.to_csv('2.Processed_data/master_bitcoin_data_20180211.csv')"
   ]
  },
  {
   "cell_type": "code",
   "execution_count": null,
   "metadata": {},
   "outputs": [],
   "source": []
  },
  {
   "cell_type": "code",
   "execution_count": null,
   "metadata": {},
   "outputs": [],
   "source": []
  }
 ],
 "metadata": {
  "kernelspec": {
   "display_name": "Python 3",
   "language": "python",
   "name": "python3"
  },
  "language_info": {
   "codemirror_mode": {
    "name": "ipython",
    "version": 3
   },
   "file_extension": ".py",
   "mimetype": "text/x-python",
   "name": "python",
   "nbconvert_exporter": "python",
   "pygments_lexer": "ipython3",
   "version": "3.6.4"
  }
 },
 "nbformat": 4,
 "nbformat_minor": 2
}
